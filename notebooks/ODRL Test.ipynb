{
 "cells": [
  {
   "cell_type": "code",
   "execution_count": 39,
   "metadata": {},
   "outputs": [],
   "source": [
    "import pandas as pd\n",
    "from datetime import datetime\n",
    "import downloader as dl\n",
    "import glob, os\n",
    "# from fcmeans import FCM\n",
    "# import hdbscan\n",
    "import numpy as np\n",
    "from numpy import arange, array, ones\n",
    "from numpy.linalg import lstsq"
   ]
  },
  {
   "cell_type": "code",
   "execution_count": 16,
   "metadata": {},
   "outputs": [
    {
     "ename": "NameError",
     "evalue": "name 'hdbscan' is not defined",
     "output_type": "error",
     "traceback": [
      "\u001b[0;31m---------------------------------------------------------------------------\u001b[0m",
      "\u001b[0;31mNameError\u001b[0m                                 Traceback (most recent call last)",
      "\u001b[0;32m<ipython-input-16-dd273846f9cc>\u001b[0m in \u001b[0;36m<module>\u001b[0;34m\u001b[0m\n\u001b[0;32m----> 1\u001b[0;31m \u001b[0mclusterer\u001b[0m \u001b[0;34m=\u001b[0m \u001b[0mhdbscan\u001b[0m\u001b[0;34m.\u001b[0m\u001b[0mHDBSCAN\u001b[0m\u001b[0;34m(\u001b[0m\u001b[0;34m)\u001b[0m\u001b[0;34m\u001b[0m\u001b[0;34m\u001b[0m\u001b[0m\n\u001b[0m",
      "\u001b[0;31mNameError\u001b[0m: name 'hdbscan' is not defined"
     ]
    }
   ],
   "source": [
    "clusterer = hdbscan.HDBSCAN()"
   ]
  },
  {
   "cell_type": "code",
   "execution_count": 40,
   "metadata": {},
   "outputs": [],
   "source": [
    "resolution = 'minute'\n",
    "multiplier = 1\n",
    "tic = 'AAPL'\n",
    "dir_ = os.path.join(dl.SAVE_DIR, f'{resolution}_{multiplier}')\n",
    "path = os.path.join(dir_, f'{tic}_*')\n",
    "files = glob.glob(path)"
   ]
  },
  {
   "cell_type": "code",
   "execution_count": 41,
   "metadata": {},
   "outputs": [],
   "source": [
    "df = dl.load_dataset(tic, resolution=resolution)[tic]"
   ]
  },
  {
   "cell_type": "code",
   "execution_count": 98,
   "metadata": {},
   "outputs": [],
   "source": [
    "max_error = 2\n",
    "n = 480\n",
    "data = df['close'][:n].reset_index(drop=True)"
   ]
  },
  {
   "cell_type": "code",
   "execution_count": 99,
   "metadata": {},
   "outputs": [
    {
     "data": {
      "text/plain": [
       "array([0.3863, 0.3868, 0.3884, 0.3882, 0.3875, 0.3875, 0.387 , 0.3854,\n",
       "       0.385 , 0.3836, 0.3832, 0.3831, 0.3834, 0.3825, 0.3825, 0.382 ,\n",
       "       0.3822, 0.3822, 0.3831, 0.3834, 0.383 , 0.3825, 0.3822, 0.3818,\n",
       "       0.382 , 0.3823, 0.3822, 0.3823, 0.3822, 0.3825, 0.382 , 0.3844,\n",
       "       0.3843, 0.3845, 0.3836, 0.3827, 0.3832, 0.3832, 0.3832, 0.3825,\n",
       "       0.3827, 0.3837, 0.3829, 0.3831, 0.3831, 0.3836, 0.3838, 0.3836,\n",
       "       0.3832, 0.3831, 0.3831, 0.3827, 0.3825, 0.3822, 0.3825, 0.3831,\n",
       "       0.3829, 0.3822, 0.3823, 0.3831, 0.3826, 0.3825, 0.3823, 0.3823,\n",
       "       0.3831, 0.3822, 0.3829, 0.3829, 0.3831, 0.3831, 0.3831, 0.3832,\n",
       "       0.3829, 0.3831, 0.3827, 0.3827, 0.3829, 0.3834, 0.3838, 0.3834,\n",
       "       0.3829, 0.3829, 0.3825, 0.3825, 0.3834, 0.3829, 0.3831, 0.3834,\n",
       "       0.3834, 0.3836, 0.3831, 0.3834, 0.3834, 0.3832, 0.3831, 0.3831,\n",
       "       0.3831, 0.3829, 0.3831, 0.3831, 0.3831, 0.3827, 0.3823, 0.3823,\n",
       "       0.3827, 0.3822, 0.382 , 0.3825, 0.3825, 0.3823, 0.382 , 0.382 ,\n",
       "       0.3821, 0.382 , 0.3822, 0.3823, 0.3822, 0.3822, 0.3825, 0.3827,\n",
       "       0.3831, 0.3827, 0.3831, 0.3829, 0.3829, 0.3829, 0.3825, 0.3829,\n",
       "       0.3827, 0.3827, 0.3827, 0.3827, 0.3822, 0.3823, 0.3823, 0.3823,\n",
       "       0.382 , 0.382 , 0.382 , 0.3823, 0.3822, 0.3825, 0.3822, 0.3825,\n",
       "       0.3829, 0.3829, 0.3831, 0.3825, 0.3823, 0.3827, 0.3829, 0.3829,\n",
       "       0.3831, 0.3831, 0.3829, 0.3829, 0.3831, 0.3827, 0.3829, 0.3831,\n",
       "       0.3829, 0.3827, 0.3829, 0.3829, 0.3829, 0.3825, 0.3825, 0.3823,\n",
       "       0.3829, 0.3831, 0.3832, 0.3832, 0.3832, 0.3832, 0.3834, 0.3832,\n",
       "       0.3834, 0.3834, 0.3829, 0.3829, 0.3829, 0.3831, 0.3827, 0.3829,\n",
       "       0.3829, 0.3827, 0.3827, 0.3827, 0.3825, 0.3822, 0.3822, 0.3822,\n",
       "       0.382 , 0.382 , 0.382 , 0.3823, 0.3825, 0.3823, 0.3823, 0.3823,\n",
       "       0.3831, 0.3827, 0.3825, 0.3823, 0.3827, 0.3823, 0.3829, 0.3829,\n",
       "       0.3823, 0.3825, 0.3822, 0.382 , 0.3822, 0.382 , 0.382 , 0.3822,\n",
       "       0.3825, 0.3822, 0.3825, 0.3827, 0.3827, 0.3831, 0.3832, 0.3836,\n",
       "       0.3834, 0.384 , 0.3834, 0.3837, 0.3836, 0.3834, 0.3832, 0.3833,\n",
       "       0.3834, 0.3833, 0.3831, 0.3829, 0.3827, 0.3823, 0.3823, 0.3825,\n",
       "       0.3823, 0.3823, 0.3823, 0.3822, 0.3823, 0.3822, 0.3823, 0.3823,\n",
       "       0.3823, 0.3822, 0.3822, 0.3822, 0.3822, 0.3822, 0.3822, 0.3823,\n",
       "       0.3823, 0.3823, 0.3823, 0.3823, 0.3823, 0.3827, 0.3823, 0.3826,\n",
       "       0.3825, 0.3823, 0.3823, 0.3827, 0.3825, 0.3823, 0.3825, 0.3824,\n",
       "       0.3823, 0.3823, 0.3823, 0.3823, 0.3823, 0.3823, 0.3822, 0.3823,\n",
       "       0.382 , 0.3822, 0.3822, 0.3822, 0.382 , 0.382 , 0.382 , 0.3818,\n",
       "       0.3818, 0.3816, 0.3816, 0.3815, 0.3815, 0.3813, 0.3815, 0.3815,\n",
       "       0.3813, 0.3815, 0.3813, 0.3806, 0.3816, 0.3813, 0.3811, 0.3811,\n",
       "       0.3806, 0.3806, 0.3806, 0.3804, 0.3798, 0.38  , 0.3797, 0.38  ,\n",
       "       0.38  , 0.3802, 0.3806, 0.3806, 0.3806, 0.38  , 0.3804, 0.38  ,\n",
       "       0.3802, 0.38  , 0.3802, 0.3804, 0.3804, 0.3811, 0.3806, 0.3807,\n",
       "       0.3807, 0.3806, 0.3807, 0.3804, 0.3804, 0.3802, 0.3807, 0.3806,\n",
       "       0.3797, 0.379 , 0.3787, 0.3787, 0.3786, 0.3787, 0.3786, 0.3786,\n",
       "       0.3787, 0.3786, 0.379 , 0.379 , 0.3795, 0.38  , 0.3798, 0.3804,\n",
       "       0.3804, 0.3804, 0.3804, 0.3802, 0.3802, 0.3804, 0.3804, 0.3804,\n",
       "       0.3798, 0.3802, 0.3802, 0.3802, 0.3802, 0.38  , 0.3797, 0.38  ,\n",
       "       0.3801, 0.38  , 0.38  , 0.3798, 0.38  , 0.3801, 0.38  , 0.38  ,\n",
       "       0.3797, 0.3791, 0.3782, 0.3793, 0.3795, 0.3798, 0.3795, 0.3798,\n",
       "       0.38  , 0.38  , 0.379 , 0.3795, 0.3798, 0.379 , 0.3797, 0.3795,\n",
       "       0.3791, 0.3799, 0.3791, 0.3793, 0.3813, 0.384 , 0.3841, 0.3848,\n",
       "       0.3813, 0.384 , 0.384 , 0.384 , 0.384 , 0.3866, 0.384 , 0.3813,\n",
       "       0.3813, 0.384 , 0.384 , 0.384 , 0.3859, 0.3854, 0.3847, 0.3848,\n",
       "       0.3848, 0.385 , 0.3856, 0.3866, 0.3856, 0.3856, 0.3854, 0.3857,\n",
       "       0.3848, 0.3847, 0.3848, 0.385 , 0.3857, 0.3859, 0.3863, 0.3863,\n",
       "       0.3865, 0.3865, 0.3863, 0.3868, 0.3875, 0.3873, 0.3868, 0.3877,\n",
       "       0.3875, 0.3871, 0.3875, 0.3875, 0.3878, 0.3877, 0.3877, 0.3877,\n",
       "       0.3877, 0.3877, 0.3875, 0.3872, 0.3875, 0.3878, 0.3878, 0.3875,\n",
       "       0.3877, 0.3881, 0.3884, 0.3891, 0.3882, 0.3878, 0.3878, 0.3881,\n",
       "       0.3881, 0.3884, 0.3882, 0.3881, 0.3881, 0.3882, 0.3888, 0.3884,\n",
       "       0.3882, 0.3882, 0.3884, 0.3882, 0.3882, 0.3886, 0.3891, 0.3897])"
      ]
     },
     "execution_count": 99,
     "metadata": {},
     "output_type": "execute_result"
    }
   ],
   "source": [
    "data = data.to_numpy()\n",
    "data"
   ]
  },
  {
   "cell_type": "code",
   "execution_count": 100,
   "metadata": {},
   "outputs": [],
   "source": [
    "def leastsquareslinefit(sequence,seq_range):\n",
    "    \"\"\"Return the parameters and error for a least squares line fit of one segment of a sequence\"\"\"\n",
    "    x = arange(seq_range[0],seq_range[1]+1)\n",
    "    y = array(sequence[int(seq_range[0]):int(seq_range[1])+1])\n",
    "    A = ones((len(x),2),float)\n",
    "    A[:,0] = x\n",
    "    (p,residuals,rank,s) = lstsq(A,y)\n",
    "    try:\n",
    "        error = residuals[0]\n",
    "    except IndexError:\n",
    "        error = 0.0\n",
    "    return (p,error)"
   ]
  },
  {
   "cell_type": "code",
   "execution_count": 101,
   "metadata": {},
   "outputs": [],
   "source": [
    "def regression(sequence, seq_range):\n",
    "    \"\"\"Return (x0,y0,x1,y1) of a line fit to a segment of a sequence using linear regression\"\"\"\n",
    "    p, error = leastsquareslinefit(sequence,seq_range)\n",
    "    y0 = p[0]*seq_range[0] + p[1]\n",
    "    y1 = p[0]*seq_range[1] + p[1]\n",
    "    return (seq_range[0],y0,seq_range[1],y1)"
   ]
  },
  {
   "cell_type": "code",
   "execution_count": 102,
   "metadata": {},
   "outputs": [],
   "source": [
    "def sumsquared_error(sequence, segment):\n",
    "    \"\"\"Return the sum of squared errors for a least squares line fit of one segment of a sequence\"\"\"\n",
    "    x0,y0,x1,y1 = segment\n",
    "    p, error = leastsquareslinefit(sequence,(x0,x1))\n",
    "    return error"
   ]
  },
  {
   "cell_type": "code",
   "execution_count": 103,
   "metadata": {},
   "outputs": [],
   "source": [
    "def bottomupsegment(sequence, create_segment, compute_error, max_error):\n",
    "    \"\"\"\n",
    "    Return a list of line segments that approximate the sequence.\n",
    "    \n",
    "    The list is computed using the bottom-up technique.\n",
    "    \n",
    "    Parameters\n",
    "    ----------\n",
    "    sequence : sequence to segment\n",
    "    create_segment : a function of two arguments (sequence, sequence range) that returns a line segment that approximates the sequence data in the specified range\n",
    "    compute_error: a function of two argments (sequence, segment) that returns the error from fitting the specified line segment to the sequence data\n",
    "    max_error: the maximum allowable line segment fitting error\n",
    "    \n",
    "    \"\"\"\n",
    "    segments = [create_segment(sequence,seq_range) for seq_range in zip(range(len(sequence))[:-1],range(len(sequence))[1:])]\n",
    "    mergesegments = [create_segment(sequence,(seg1[0],seg2[2])) for seg1,seg2 in zip(segments[:-1],segments[1:])]\n",
    "    mergecosts = [compute_error(sequence,segment) for segment in mergesegments]\n",
    "\n",
    "    while min(mergecosts) < max_error:\n",
    "        idx = mergecosts.index(min(mergecosts))\n",
    "        segments[idx] = mergesegments[idx]\n",
    "        del segments[idx+1]\n",
    "\n",
    "        if idx > 0:\n",
    "            mergesegments[idx-1] = create_segment(sequence,(segments[idx-1][0],segments[idx][2]))\n",
    "            mergecosts[idx-1] = compute_error(sequence,mergesegments[idx-1])\n",
    "\n",
    "        if idx+1 < len(mergecosts):\n",
    "            mergesegments[idx+1] = create_segment(sequence,(segments[idx][0],segments[idx+1][2]))\n",
    "            mergecosts[idx+1] = compute_error(sequence,mergesegments[idx])\n",
    "\n",
    "        del mergesegments[idx]\n",
    "        del mergecosts[idx]\n",
    "\n",
    "    return segments"
   ]
  },
  {
   "cell_type": "code",
   "execution_count": 104,
   "metadata": {},
   "outputs": [
    {
     "name": "stderr",
     "output_type": "stream",
     "text": [
      "<ipython-input-100-2c399b94fc2b>:7: FutureWarning: `rcond` parameter will change to the default of machine precision times ``max(M, N)`` where M and N are the input matrix dimensions.\n",
      "To use the future default and silence this warning we advise to pass `rcond=None`, to keep using the old, explicitly pass `rcond=-1`.\n",
      "  (p,residuals,rank,s) = lstsq(A,y)\n"
     ]
    },
    {
     "ename": "ValueError",
     "evalue": "min() arg is an empty sequence",
     "output_type": "error",
     "traceback": [
      "\u001b[0;31m---------------------------------------------------------------------------\u001b[0m",
      "\u001b[0;31mValueError\u001b[0m                                Traceback (most recent call last)",
      "\u001b[0;32m<ipython-input-104-75add8f17c02>\u001b[0m in \u001b[0;36m<module>\u001b[0;34m\u001b[0m\n\u001b[0;32m----> 1\u001b[0;31m \u001b[0msegments\u001b[0m \u001b[0;34m=\u001b[0m \u001b[0mbottomupsegment\u001b[0m\u001b[0;34m(\u001b[0m\u001b[0mdata\u001b[0m\u001b[0;34m,\u001b[0m \u001b[0mregression\u001b[0m\u001b[0;34m,\u001b[0m \u001b[0msumsquared_error\u001b[0m\u001b[0;34m,\u001b[0m \u001b[0mmax_error\u001b[0m\u001b[0;34m)\u001b[0m\u001b[0;34m\u001b[0m\u001b[0;34m\u001b[0m\u001b[0m\n\u001b[0m\u001b[1;32m      2\u001b[0m \u001b[0msegments\u001b[0m\u001b[0;34m\u001b[0m\u001b[0;34m\u001b[0m\u001b[0m\n",
      "\u001b[0;32m<ipython-input-103-312f476cd01c>\u001b[0m in \u001b[0;36mbottomupsegment\u001b[0;34m(sequence, create_segment, compute_error, max_error)\u001b[0m\n\u001b[1;32m     17\u001b[0m     \u001b[0mmergecosts\u001b[0m \u001b[0;34m=\u001b[0m \u001b[0;34m[\u001b[0m\u001b[0mcompute_error\u001b[0m\u001b[0;34m(\u001b[0m\u001b[0msequence\u001b[0m\u001b[0;34m,\u001b[0m\u001b[0msegment\u001b[0m\u001b[0;34m)\u001b[0m \u001b[0;32mfor\u001b[0m \u001b[0msegment\u001b[0m \u001b[0;32min\u001b[0m \u001b[0mmergesegments\u001b[0m\u001b[0;34m]\u001b[0m\u001b[0;34m\u001b[0m\u001b[0;34m\u001b[0m\u001b[0m\n\u001b[1;32m     18\u001b[0m \u001b[0;34m\u001b[0m\u001b[0m\n\u001b[0;32m---> 19\u001b[0;31m     \u001b[0;32mwhile\u001b[0m \u001b[0mmin\u001b[0m\u001b[0;34m(\u001b[0m\u001b[0mmergecosts\u001b[0m\u001b[0;34m)\u001b[0m \u001b[0;34m<\u001b[0m \u001b[0mmax_error\u001b[0m\u001b[0;34m:\u001b[0m\u001b[0;34m\u001b[0m\u001b[0;34m\u001b[0m\u001b[0m\n\u001b[0m\u001b[1;32m     20\u001b[0m         \u001b[0midx\u001b[0m \u001b[0;34m=\u001b[0m \u001b[0mmergecosts\u001b[0m\u001b[0;34m.\u001b[0m\u001b[0mindex\u001b[0m\u001b[0;34m(\u001b[0m\u001b[0mmin\u001b[0m\u001b[0;34m(\u001b[0m\u001b[0mmergecosts\u001b[0m\u001b[0;34m)\u001b[0m\u001b[0;34m)\u001b[0m\u001b[0;34m\u001b[0m\u001b[0;34m\u001b[0m\u001b[0m\n\u001b[1;32m     21\u001b[0m         \u001b[0msegments\u001b[0m\u001b[0;34m[\u001b[0m\u001b[0midx\u001b[0m\u001b[0;34m]\u001b[0m \u001b[0;34m=\u001b[0m \u001b[0mmergesegments\u001b[0m\u001b[0;34m[\u001b[0m\u001b[0midx\u001b[0m\u001b[0;34m]\u001b[0m\u001b[0;34m\u001b[0m\u001b[0;34m\u001b[0m\u001b[0m\n",
      "\u001b[0;31mValueError\u001b[0m: min() arg is an empty sequence"
     ]
    }
   ],
   "source": [
    "segments = bottomupsegment(data, regression, sumsquared_error, max_error)\n",
    "segments"
   ]
  },
  {
   "cell_type": "code",
   "execution_count": 105,
   "metadata": {},
   "outputs": [],
   "source": [
    "from matplotlib.pylab import gca, figure, plot, subplot, title, xlabel, ylabel, xlim,show\n",
    "from matplotlib.lines import Line2D\n",
    "def draw_plot(data,plot_title):\n",
    "    plot(range(len(data)),data,alpha=0.8,color='red')\n",
    "    title(plot_title)\n",
    "    xlabel(\"Samples\")\n",
    "    ylabel(\"Signal\")\n",
    "    xlim((0,len(data)-1))\n",
    "\n",
    "def draw_segments(segments):\n",
    "    ax = gca()\n",
    "    for segment in segments:\n",
    "        line = Line2D((segment[0],segment[2]),(segment[1],segment[3]))\n",
    "        ax.add_line(line)"
   ]
  },
  {
   "cell_type": "code",
   "execution_count": 96,
   "metadata": {},
   "outputs": [
    {
     "data": {
      "image/png": "[encoded data removed]",
      "text/plain": [
       "<Figure size 432x288 with 1 Axes>"
      ]
     },
     "metadata": {
      "needs_background": "light"
     },
     "output_type": "display_data"
    }
   ],
   "source": [
    "figure()\n",
    "draw_plot(data,\"Bottom-down with regression\")\n",
    "draw_segments(segments)"
   ]
  },
  {
   "cell_type": "code",
   "execution_count": 97,
   "metadata": {},
   "outputs": [],
   "source": [
    "usl = df['high'] - df['close']\n",
    "lsl = df['open'] - df['low']\n",
    "body = np.absolute(df['close'] - df['open'])\n",
    "color = df['close'] > df['open']"
   ]
  },
  {
   "cell_type": "code",
   "execution_count": null,
   "metadata": {},
   "outputs": [],
   "source": [
    "usl = pd.DataFrame(usl)"
   ]
  },
  {
   "cell_type": "code",
   "execution_count": null,
   "metadata": {},
   "outputs": [],
   "source": [
    "usl"
   ]
  },
  {
   "cell_type": "code",
   "execution_count": null,
   "metadata": {},
   "outputs": [],
   "source": [
    "usl_r = clusterer.fit(usl)"
   ]
  },
  {
   "cell_type": "code",
   "execution_count": null,
   "metadata": {},
   "outputs": [],
   "source": []
  }
 ],
 "metadata": {
  "kernelspec": {
   "display_name": "finrl",
   "language": "python",
   "name": "finrl"
  },
  "language_info": {
   "codemirror_mode": {
    "name": "ipython",
    "version": 3
   },
   "file_extension": ".py",
   "mimetype": "text/x-python",
   "name": "python",
   "nbconvert_exporter": "python",
   "pygments_lexer": "ipython3",
   "version": "3.8.5"
  }
 },
 "nbformat": 4,
 "nbformat_minor": 4
}
