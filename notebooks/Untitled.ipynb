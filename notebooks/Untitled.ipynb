{
 "cells": [
  {
   "cell_type": "code",
   "execution_count": 1,
   "metadata": {},
   "outputs": [
    {
     "data": {
      "application/javascript": [
       "IPython.OutputArea.prototype._should_scroll = function(lines) {\n",
       "    return false;\n",
       "}\n"
      ],
      "text/plain": [
       "<IPython.core.display.Javascript object>"
      ]
     },
     "metadata": {},
     "output_type": "display_data"
    }
   ],
   "source": [
    "%%javascript\n",
    "IPython.OutputArea.prototype._should_scroll = function(lines) {\n",
    "    return false;\n",
    "}\n"
   ]
  },
  {
   "cell_type": "code",
   "execution_count": 2,
   "metadata": {},
   "outputs": [],
   "source": [
    "# use future imports for python 3.x forward compatibility\n",
    "from __future__ import print_function\n",
    "from __future__ import unicode_literals\n",
    "from __future__ import division\n",
    "from __future__ import absolute_import\n",
    "\n",
    "# other imports\n",
    "import pandas as pd\n",
    "import matplotlib.pyplot as plt\n",
    "import datetime\n",
    "import talib\n",
    "from talib.abstract import *\n",
    "from talib import MA_Type\n",
    "import itable\n",
    "import downloader as dl\n",
    "# project imports\n",
    "# import pinkfish as pf\n",
    "\n",
    "# format price data\n",
    "pd.options.display.float_format = '{:0.2f}'.format\n",
    "\n",
    "%matplotlib inline"
   ]
  },
  {
   "cell_type": "code",
   "execution_count": 35,
   "metadata": {},
   "outputs": [],
   "source": [
    "functions = talib.get_functions()"
   ]
  },
  {
   "cell_type": "code",
   "execution_count": 36,
   "metadata": {},
   "outputs": [],
   "source": [
    "df = dl.load('AAPL')"
   ]
  },
  {
   "cell_type": "code",
   "execution_count": 37,
   "metadata": {},
   "outputs": [],
   "source": [
    "functions.remove('MAVP')\n",
    "for func in functions:\n",
    "    f = Function(func)\n",
    "    t_df = f(df)\n",
    "    if len(f.info['output_names']) > 1:\n",
    "        for o in f.info['output_names']:\n",
    "            df[o] = t_df[o]\n",
    "    else:\n",
    "        df[func] = t_df\n"
   ]
  },
  {
   "cell_type": "code",
   "execution_count": 39,
   "metadata": {},
   "outputs": [
    {
     "data": {
      "text/plain": [
       "173"
      ]
     },
     "execution_count": 39,
     "metadata": {},
     "output_type": "execute_result"
    }
   ],
   "source": [
    "len(df.columns)"
   ]
  },
  {
   "cell_type": "code",
   "execution_count": 40,
   "metadata": {},
   "outputs": [
    {
     "data": {
      "text/plain": [
       "timestamp\n",
       "2004-01-02 09:30:00-05:00     nan\n",
       "2004-01-02 09:31:00-05:00     nan\n",
       "2004-01-02 09:32:00-05:00     nan\n",
       "2004-01-02 09:33:00-05:00     nan\n",
       "2004-01-02 09:34:00-05:00     nan\n",
       "                             ... \n",
       "2020-12-31 15:56:00-05:00    0.01\n",
       "2020-12-31 15:57:00-05:00    0.01\n",
       "2020-12-31 15:58:00-05:00    0.01\n",
       "2020-12-31 15:59:00-05:00   -0.01\n",
       "2020-12-31 16:00:00-05:00   -0.01\n",
       "Name: macd, Length: 2630119, dtype: float64"
      ]
     },
     "execution_count": 40,
     "metadata": {},
     "output_type": "execute_result"
    }
   ],
   "source": [
    "df['macd']"
   ]
  },
  {
   "cell_type": "code",
   "execution_count": 41,
   "metadata": {},
   "outputs": [
    {
     "data": {
      "text/plain": [
       "timestamp\n",
       "2004-01-02 09:30:00-05:00    AAPL\n",
       "2004-01-02 09:31:00-05:00    AAPL\n",
       "2004-01-02 09:32:00-05:00    AAPL\n",
       "2004-01-02 09:33:00-05:00    AAPL\n",
       "2004-01-02 09:34:00-05:00    AAPL\n",
       "                             ... \n",
       "2020-12-31 15:56:00-05:00    AAPL\n",
       "2020-12-31 15:57:00-05:00    AAPL\n",
       "2020-12-31 15:58:00-05:00    AAPL\n",
       "2020-12-31 15:59:00-05:00    AAPL\n",
       "2020-12-31 16:00:00-05:00    AAPL\n",
       "Name: tic, Length: 2630119, dtype: object"
      ]
     },
     "execution_count": 41,
     "metadata": {},
     "output_type": "execute_result"
    }
   ],
   "source": [
    "df['tic']"
   ]
  },
  {
   "cell_type": "code",
   "execution_count": null,
   "metadata": {},
   "outputs": [],
   "source": []
  }
 ],
 "metadata": {
  "kernelspec": {
   "display_name": "finrl",
   "language": "python",
   "name": "finrl"
  },
  "language_info": {
   "codemirror_mode": {
    "name": "ipython",
    "version": 3
   },
   "file_extension": ".py",
   "mimetype": "text/x-python",
   "name": "python",
   "nbconvert_exporter": "python",
   "pygments_lexer": "ipython3",
   "version": "3.8.5"
  }
 },
 "nbformat": 4,
 "nbformat_minor": 4
}
