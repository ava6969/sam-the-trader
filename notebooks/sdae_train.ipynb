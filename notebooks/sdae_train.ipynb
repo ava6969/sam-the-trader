{
 "cells": [
  {
   "cell_type": "code",
   "execution_count": 23,
   "metadata": {},
   "outputs": [],
   "source": [
    "import click\n",
    "import numpy as np\n",
    "import seaborn as sns\n",
    "from sklearn.metrics import confusion_matrix\n",
    "from torch.optim import SGD\n",
    "from torch.optim.lr_scheduler import StepLR\n",
    "import torch\n",
    "import torch.nn.functional as F\n",
    "from torch.utils.data import DataLoader, Dataset\n",
    "from torchvision import transforms\n",
    "from torchvision.datasets import MNIST\n",
    "from tensorboardX import SummaryWriter\n",
    "from sklearn.cluster import KMeans\n",
    "import uuid\n",
    "from datetime import time\n",
    "import pytz\n",
    "import datetime\n",
    "from ptsdae.sdae import StackedDenoisingAutoEncoder\n",
    "import ptsdae.model as ae\n",
    "from ptsdae.utils import *\n",
    "from downloader import load_dataset\n",
    "import numpy as np\n",
    "\n",
    "NY = 'America/New_York'\n",
    "import pandas as pd\n",
    "\n"
   ]
  },
  {
   "cell_type": "code",
   "execution_count": 2,
   "metadata": {},
   "outputs": [],
   "source": [
    "TICKERS = ['AAPL', 'IBM', 'MSFT', 'NVDA', 'ZM', 'AMZN']\n",
    "TECH_IND = 'MACD!macd MA EMA ATR ROC'\n",
    "res = 'minute'"
   ]
  },
  {
   "cell_type": "code",
   "execution_count": 3,
   "metadata": {},
   "outputs": [],
   "source": [
    "df_dict = load_dataset(TICKERS, TECH_IND, res)"
   ]
  },
  {
   "cell_type": "code",
   "execution_count": 4,
   "metadata": {},
   "outputs": [],
   "source": [
    "def clean_up(df_dict, ticker):\n",
    "    train_data = df_dict[ticker].drop('tic', axis=1)\n",
    " \n",
    "    train_data = train_data[\n",
    "        ((train_data.index.time >= time(hour=9, minute=30, second=0, tzinfo=pytz.timezone(NY))) &\n",
    "         (train_data.index.time <= time(hour=11, minute=30, second=0, tzinfo=pytz.timezone(NY)))) |\n",
    "        ((train_data.index.time >= time(hour=13, tzinfo=pytz.timezone(NY))) &\n",
    "         (train_data.index.time <= time(hour=15, tzinfo=pytz.timezone(NY))))]\n",
    "    train_data = train_data.sort_index()\n",
    "    train_data = train_data.reset_index(drop=True)\n",
    "    return train_data"
   ]
  },
  {
   "cell_type": "code",
   "execution_count": 5,
   "metadata": {},
   "outputs": [],
   "source": [
    "database = pd.DataFrame()\n",
    "for t in TICKERS:\n",
    "    df = clean_up(df_dict, t)\n",
    "    database = database.append(df, True)"
   ]
  },
  {
   "cell_type": "code",
   "execution_count": 6,
   "metadata": {},
   "outputs": [
    {
     "data": {
      "text/html": [
       "<div>\n",
       "<style scoped>\n",
       "    .dataframe tbody tr th:only-of-type {\n",
       "        vertical-align: middle;\n",
       "    }\n",
       "\n",
       "    .dataframe tbody tr th {\n",
       "        vertical-align: top;\n",
       "    }\n",
       "\n",
       "    .dataframe thead th {\n",
       "        text-align: right;\n",
       "    }\n",
       "</style>\n",
       "<table border=\"1\" class=\"dataframe\">\n",
       "  <thead>\n",
       "    <tr style=\"text-align: right;\">\n",
       "      <th></th>\n",
       "      <th>open</th>\n",
       "      <th>high</th>\n",
       "      <th>low</th>\n",
       "      <th>close</th>\n",
       "      <th>volume</th>\n",
       "      <th>vwap</th>\n",
       "      <th>MACD</th>\n",
       "      <th>MA</th>\n",
       "      <th>EMA</th>\n",
       "      <th>ATR</th>\n",
       "      <th>ROC</th>\n",
       "    </tr>\n",
       "  </thead>\n",
       "  <tbody>\n",
       "    <tr>\n",
       "      <th>0</th>\n",
       "      <td>0.3848</td>\n",
       "      <td>0.3866</td>\n",
       "      <td>0.3847</td>\n",
       "      <td>0.3863</td>\n",
       "      <td>2113944.0</td>\n",
       "      <td>0.3851</td>\n",
       "      <td>-0.000559</td>\n",
       "      <td>0.383877</td>\n",
       "      <td>0.383877</td>\n",
       "      <td>0.001400</td>\n",
       "      <td>-0.802485</td>\n",
       "    </tr>\n",
       "    <tr>\n",
       "      <th>1</th>\n",
       "      <td>0.3848</td>\n",
       "      <td>0.3873</td>\n",
       "      <td>0.3847</td>\n",
       "      <td>0.3868</td>\n",
       "      <td>964936.0</td>\n",
       "      <td>0.3863</td>\n",
       "      <td>-0.000559</td>\n",
       "      <td>0.383877</td>\n",
       "      <td>0.383877</td>\n",
       "      <td>0.001400</td>\n",
       "      <td>-0.802485</td>\n",
       "    </tr>\n",
       "    <tr>\n",
       "      <th>2</th>\n",
       "      <td>0.3869</td>\n",
       "      <td>0.3884</td>\n",
       "      <td>0.3863</td>\n",
       "      <td>0.3884</td>\n",
       "      <td>1960952.0</td>\n",
       "      <td>0.3865</td>\n",
       "      <td>-0.000559</td>\n",
       "      <td>0.383877</td>\n",
       "      <td>0.383877</td>\n",
       "      <td>0.001400</td>\n",
       "      <td>-0.802485</td>\n",
       "    </tr>\n",
       "    <tr>\n",
       "      <th>3</th>\n",
       "      <td>0.3882</td>\n",
       "      <td>0.3884</td>\n",
       "      <td>0.3875</td>\n",
       "      <td>0.3882</td>\n",
       "      <td>459200.0</td>\n",
       "      <td>0.3879</td>\n",
       "      <td>-0.000559</td>\n",
       "      <td>0.383877</td>\n",
       "      <td>0.383877</td>\n",
       "      <td>0.001400</td>\n",
       "      <td>-0.802485</td>\n",
       "    </tr>\n",
       "    <tr>\n",
       "      <th>4</th>\n",
       "      <td>0.3882</td>\n",
       "      <td>0.3884</td>\n",
       "      <td>0.3875</td>\n",
       "      <td>0.3875</td>\n",
       "      <td>584416.0</td>\n",
       "      <td>0.3878</td>\n",
       "      <td>-0.000559</td>\n",
       "      <td>0.383877</td>\n",
       "      <td>0.383877</td>\n",
       "      <td>0.001400</td>\n",
       "      <td>-0.802485</td>\n",
       "    </tr>\n",
       "    <tr>\n",
       "      <th>...</th>\n",
       "      <td>...</td>\n",
       "      <td>...</td>\n",
       "      <td>...</td>\n",
       "      <td>...</td>\n",
       "      <td>...</td>\n",
       "      <td>...</td>\n",
       "      <td>...</td>\n",
       "      <td>...</td>\n",
       "      <td>...</td>\n",
       "      <td>...</td>\n",
       "      <td>...</td>\n",
       "    </tr>\n",
       "    <tr>\n",
       "      <th>5256295</th>\n",
       "      <td>3252.0000</td>\n",
       "      <td>3252.6400</td>\n",
       "      <td>3251.2200</td>\n",
       "      <td>3251.2200</td>\n",
       "      <td>3708.0</td>\n",
       "      <td>3252.1155</td>\n",
       "      <td>0.741446</td>\n",
       "      <td>3250.743367</td>\n",
       "      <td>3250.781332</td>\n",
       "      <td>1.383237</td>\n",
       "      <td>0.013228</td>\n",
       "    </tr>\n",
       "    <tr>\n",
       "      <th>5256296</th>\n",
       "      <td>3251.1103</td>\n",
       "      <td>3251.4250</td>\n",
       "      <td>3250.7500</td>\n",
       "      <td>3251.1800</td>\n",
       "      <td>3081.0</td>\n",
       "      <td>3251.2117</td>\n",
       "      <td>0.641133</td>\n",
       "      <td>3250.964700</td>\n",
       "      <td>3250.807053</td>\n",
       "      <td>1.332649</td>\n",
       "      <td>-0.025215</td>\n",
       "    </tr>\n",
       "    <tr>\n",
       "      <th>5256297</th>\n",
       "      <td>3251.2700</td>\n",
       "      <td>3251.6300</td>\n",
       "      <td>3250.7400</td>\n",
       "      <td>3250.9150</td>\n",
       "      <td>2696.0</td>\n",
       "      <td>3251.2341</td>\n",
       "      <td>0.534094</td>\n",
       "      <td>3251.192533</td>\n",
       "      <td>3250.814017</td>\n",
       "      <td>1.301031</td>\n",
       "      <td>-0.041049</td>\n",
       "    </tr>\n",
       "    <tr>\n",
       "      <th>5256298</th>\n",
       "      <td>3251.2400</td>\n",
       "      <td>3251.7800</td>\n",
       "      <td>3250.8015</td>\n",
       "      <td>3250.8015</td>\n",
       "      <td>1834.0</td>\n",
       "      <td>3251.2947</td>\n",
       "      <td>0.435091</td>\n",
       "      <td>3251.361007</td>\n",
       "      <td>3250.813209</td>\n",
       "      <td>1.277993</td>\n",
       "      <td>-0.068813</td>\n",
       "    </tr>\n",
       "    <tr>\n",
       "      <th>5256299</th>\n",
       "      <td>3251.8700</td>\n",
       "      <td>3252.4700</td>\n",
       "      <td>3251.0101</td>\n",
       "      <td>3252.1000</td>\n",
       "      <td>4932.0</td>\n",
       "      <td>3251.9288</td>\n",
       "      <td>0.456150</td>\n",
       "      <td>3251.546673</td>\n",
       "      <td>3250.896228</td>\n",
       "      <td>1.305886</td>\n",
       "      <td>-0.043031</td>\n",
       "    </tr>\n",
       "  </tbody>\n",
       "</table>\n",
       "<p>5256300 rows × 11 columns</p>\n",
       "</div>"
      ],
      "text/plain": [
       "              open       high        low      close     volume       vwap  \\\n",
       "0           0.3848     0.3866     0.3847     0.3863  2113944.0     0.3851   \n",
       "1           0.3848     0.3873     0.3847     0.3868   964936.0     0.3863   \n",
       "2           0.3869     0.3884     0.3863     0.3884  1960952.0     0.3865   \n",
       "3           0.3882     0.3884     0.3875     0.3882   459200.0     0.3879   \n",
       "4           0.3882     0.3884     0.3875     0.3875   584416.0     0.3878   \n",
       "...            ...        ...        ...        ...        ...        ...   \n",
       "5256295  3252.0000  3252.6400  3251.2200  3251.2200     3708.0  3252.1155   \n",
       "5256296  3251.1103  3251.4250  3250.7500  3251.1800     3081.0  3251.2117   \n",
       "5256297  3251.2700  3251.6300  3250.7400  3250.9150     2696.0  3251.2341   \n",
       "5256298  3251.2400  3251.7800  3250.8015  3250.8015     1834.0  3251.2947   \n",
       "5256299  3251.8700  3252.4700  3251.0101  3252.1000     4932.0  3251.9288   \n",
       "\n",
       "             MACD           MA          EMA       ATR       ROC  \n",
       "0       -0.000559     0.383877     0.383877  0.001400 -0.802485  \n",
       "1       -0.000559     0.383877     0.383877  0.001400 -0.802485  \n",
       "2       -0.000559     0.383877     0.383877  0.001400 -0.802485  \n",
       "3       -0.000559     0.383877     0.383877  0.001400 -0.802485  \n",
       "4       -0.000559     0.383877     0.383877  0.001400 -0.802485  \n",
       "...           ...          ...          ...       ...       ...  \n",
       "5256295  0.741446  3250.743367  3250.781332  1.383237  0.013228  \n",
       "5256296  0.641133  3250.964700  3250.807053  1.332649 -0.025215  \n",
       "5256297  0.534094  3251.192533  3250.814017  1.301031 -0.041049  \n",
       "5256298  0.435091  3251.361007  3250.813209  1.277993 -0.068813  \n",
       "5256299  0.456150  3251.546673  3250.896228  1.305886 -0.043031  \n",
       "\n",
       "[5256300 rows x 11 columns]"
      ]
     },
     "execution_count": 6,
     "metadata": {},
     "output_type": "execute_result"
    }
   ],
   "source": [
    "database"
   ]
  },
  {
   "cell_type": "code",
   "execution_count": 7,
   "metadata": {},
   "outputs": [
    {
     "data": {
      "text/plain": [
       "(5256300, 11)"
      ]
     },
     "execution_count": 7,
     "metadata": {},
     "output_type": "execute_result"
    }
   ],
   "source": [
    "np_df = database.to_numpy()\n",
    "np_df.shape"
   ]
  },
  {
   "cell_type": "code",
   "execution_count": 88,
   "metadata": {},
   "outputs": [
    {
     "data": {
      "text/plain": [
       "array([ 3.84800000e-01,  3.86600000e-01,  3.84700000e-01,  3.86300000e-01,\n",
       "        2.11394400e+06,  3.85100000e-01, -5.58729603e-04,  3.83876667e-01,\n",
       "        3.83876667e-01,  1.40000000e-03, -8.02485115e-01])"
      ]
     },
     "execution_count": 88,
     "metadata": {},
     "output_type": "execute_result"
    }
   ],
   "source": [
    "np_df[0]"
   ]
  },
  {
   "cell_type": "code",
   "execution_count": 8,
   "metadata": {},
   "outputs": [],
   "source": [
    "cuda = torch.cuda.is_available()\n",
    "batch_size = 256\n",
    "pretrain_epochs = 300\n",
    "finetune_epochs = 500\n",
    "testing_mode = False\n",
    "sae_dim = [np_df.shape[1], 10, 16]"
   ]
  },
  {
   "cell_type": "code",
   "execution_count": 9,
   "metadata": {},
   "outputs": [],
   "source": [
    "train_data = torch.tensor(np_df).float() if not cuda else torch.tensor(np_df).float().cuda()"
   ]
  },
  {
   "cell_type": "code",
   "execution_count": 10,
   "metadata": {},
   "outputs": [
    {
     "name": "stdout",
     "output_type": "stream",
     "text": [
      "Train size: 3679409, Validation Size: 1051260, Test Size: 525631\n"
     ]
    }
   ],
   "source": [
    "size = train_data.shape[0]\n",
    "train_sz = int(size * 0.7)\n",
    "val_sz = int(size * 0.2)\n",
    "test_sz = size - train_sz - val_sz\n",
    "print(f'Train size: {train_sz}, Validation Size: {val_sz}, Test Size: {test_sz}')"
   ]
  },
  {
   "cell_type": "code",
   "execution_count": 11,
   "metadata": {},
   "outputs": [],
   "source": [
    "writer = SummaryWriter()  # create the TensorBoard object\n",
    "# callback function to call during training, uses writer from the scope\n",
    "\n",
    "def training_callback(epoch, lr, loss, validation_loss):\n",
    "    writer.add_scalars(\n",
    "        \"data/autoencoder\",\n",
    "        {\"lr\": lr, \"loss\": loss, \"validation_loss\": validation_loss,},\n",
    "        epoch,\n",
    "    )"
   ]
  },
  {
   "cell_type": "code",
   "execution_count": 12,
   "metadata": {},
   "outputs": [],
   "source": [
    "ds_train, ds_val, ds_test =  torch.split(train_data, [train_sz, val_sz, test_sz] , dim=0)"
   ]
  },
  {
   "cell_type": "code",
   "execution_count": 13,
   "metadata": {},
   "outputs": [
    {
     "name": "stdout",
     "output_type": "stream",
     "text": [
      "Train shape: torch.Size([3679409, 11]), Validation Shape: torch.Size([1051260, 11]), Test Shape: torch.Size([525631, 11])\n"
     ]
    }
   ],
   "source": [
    "print(f'Train shape: {ds_train.shape}, Validation Shape: {ds_val.shape}, Test Shape: {ds_test.shape}')"
   ]
  },
  {
   "cell_type": "code",
   "execution_count": 24,
   "metadata": {},
   "outputs": [],
   "source": [
    "autoencoder = StackedDenoisingAutoEncoder(sae_dim, final_activation=None )"
   ]
  },
  {
   "cell_type": "code",
   "execution_count": 89,
   "metadata": {},
   "outputs": [],
   "source": [
    "autoencoder = ae.load(autoencoder)"
   ]
  },
  {
   "cell_type": "code",
   "execution_count": 90,
   "metadata": {},
   "outputs": [],
   "source": [
    "if cuda:\n",
    "    autoencoder.cuda()"
   ]
  },
  {
   "cell_type": "code",
   "execution_count": 97,
   "metadata": {},
   "outputs": [
    {
     "data": {
      "text/plain": [
       "tensor([ 1.8667e+02,  1.8672e+02,  1.8646e+02,  1.8655e+02,  1.5002e+04,\n",
       "         1.8653e+02,  3.7045e-02,  1.8664e+02,  1.8670e+02,  2.3831e-01,\n",
       "        -1.3383e-01], device='cuda:0')"
      ]
     },
     "execution_count": 97,
     "metadata": {},
     "output_type": "execute_result"
    }
   ],
   "source": [
    "test = ds_test[4]\n",
    "test"
   ]
  },
  {
   "cell_type": "code",
   "execution_count": 98,
   "metadata": {},
   "outputs": [],
   "source": [
    "autoencoder.eval()\n",
    "res = autoencoder(test)"
   ]
  },
  {
   "cell_type": "code",
   "execution_count": 99,
   "metadata": {},
   "outputs": [
    {
     "data": {
      "text/plain": [
       "tensor([-1866.4093,   206.9140,   550.3729,  1203.5037, 11405.0811,  -830.6721,\n",
       "         -656.0715,   -80.5345, -1926.2181,  -759.4712,  -133.9214],\n",
       "       device='cuda:0', grad_fn=<AddBackward0>)"
      ]
     },
     "execution_count": 99,
     "metadata": {},
     "output_type": "execute_result"
    }
   ],
   "source": [
    "res"
   ]
  },
  {
   "cell_type": "code",
   "execution_count": 100,
   "metadata": {},
   "outputs": [],
   "source": [
    "autoencoder = ae.load_trained(autoencoder)"
   ]
  },
  {
   "cell_type": "code",
   "execution_count": 101,
   "metadata": {},
   "outputs": [],
   "source": [
    "dataloader = DataLoader(ds_test, batch_size=1024, shuffle=False)"
   ]
  },
  {
   "cell_type": "code",
   "execution_count": 102,
   "metadata": {},
   "outputs": [],
   "source": [
    "autoencoder.eval()\n",
    "losses = 0.0\n",
    "for batch in dataloader:\n",
    "    if cuda:\n",
    "        batch = batch.cuda(non_blocking=True)\n",
    "    output = autoencoder(batch)\n",
    "    loss = F.mse_loss(output, batch)\n",
    "    losses += loss.item()*batch.size(0)"
   ]
  },
  {
   "cell_type": "code",
   "execution_count": 103,
   "metadata": {},
   "outputs": [
    {
     "data": {
      "text/plain": [
       "435.6619319478116"
      ]
     },
     "execution_count": 103,
     "metadata": {},
     "output_type": "execute_result"
    }
   ],
   "source": [
    "final_loss = losses/len(dataloader.sampler)\n",
    "final_loss"
   ]
  }
 ],
 "metadata": {
  "kernelspec": {
   "display_name": "finrl",
   "language": "python",
   "name": "finrl"
  },
  "language_info": {
   "codemirror_mode": {
    "name": "ipython",
    "version": 3
   },
   "file_extension": ".py",
   "mimetype": "text/x-python",
   "name": "python",
   "nbconvert_exporter": "python",
   "pygments_lexer": "ipython3",
   "version": "3.8.5"
  }
 },
 "nbformat": 4,
 "nbformat_minor": 4
}
